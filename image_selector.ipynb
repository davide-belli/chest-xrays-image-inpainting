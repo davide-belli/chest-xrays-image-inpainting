{
 "cells": [
  {
   "cell_type": "code",
   "execution_count": 16,
   "metadata": {
    "collapsed": true
   },
   "outputs": [],
   "source": [
    "import torch\n",
    "import torchvision.datasets as dset\n",
    "import os.path\n",
    "from os import listdir\n",
    "from os.path import isfile, join\n",
    "from shutil import copyfile\n",
    "from shutil import copy2\n",
    "from random import shuffle"
   ]
  },
  {
   "cell_type": "code",
   "execution_count": 2,
   "metadata": {},
   "outputs": [
    {
     "data": {
      "text/plain": [
       "['images_008',\n",
       " 'images_007',\n",
       " 'images_009',\n",
       " 'images_004',\n",
       " 'images_012',\n",
       " 'images_011',\n",
       " 'images_002',\n",
       " 'images_010',\n",
       " 'images_006',\n",
       " 'images_005',\n",
       " 'images_001',\n",
       " 'images_003']"
      ]
     },
     "execution_count": 2,
     "metadata": {},
     "output_type": "execute_result"
    }
   ],
   "source": [
    "mypath = \"./images\"\n",
    "output_train = \"./dataset_lungs/train\"\n",
    "output_test = \"./dataset_lungs/test\"\n",
    "\n",
    "os.makedirs(output_train)\n",
    "os.makedirs(output_test)\n",
    "\n",
    "listdir(mypath)"
   ]
  },
  {
   "cell_type": "code",
   "execution_count": 3,
   "metadata": {
    "collapsed": true
   },
   "outputs": [],
   "source": [
    "images_list = []\n",
    "\n",
    "# Find all images in every subdirectory\n",
    "def recursive_image_finder(path):\n",
    "    file_list = listdir(path)\n",
    "    for f in file_list:\n",
    "        if \".png\" not in f:\n",
    "            recursive_image_finder(path+\"/\"+f)\n",
    "        else:\n",
    "            images_list.append((path+\"/\"+f,f))\n",
    "            \n"
   ]
  },
  {
   "cell_type": "code",
   "execution_count": 4,
   "metadata": {},
   "outputs": [
    {
     "name": "stdout",
     "output_type": "stream",
     "text": [
      "Total images: 112120\n"
     ]
    }
   ],
   "source": [
    "# Find all images in ./images\n",
    "recursive_image_finder(mypath)\n",
    "print(\"Total images:\", len(images_list))"
   ]
  },
  {
   "cell_type": "code",
   "execution_count": 5,
   "metadata": {},
   "outputs": [
    {
     "name": "stdout",
     "output_type": "stream",
     "text": [
      "Images with no findings:  60361\n"
     ]
    }
   ],
   "source": [
    "# Parse file with no_findings images list\n",
    "with open(\"no_findings.txt\",\"r\") as f:\n",
    "    no_findings = f.readlines()\n",
    "    \n",
    "for k in range(len(no_findings)):\n",
    "    no_findings[k] = no_findings[k].replace(\"\\n\",\"\")\n",
    "    \n",
    "print(\"Images with no findings: \", len(no_findings))"
   ]
  },
  {
   "cell_type": "code",
   "execution_count": 10,
   "metadata": {},
   "outputs": [
    {
     "name": "stdout",
     "output_type": "stream",
     "text": [
      "0\n",
      "10000\n",
      "20000\n",
      "30000\n",
      "40000\n",
      "50000\n",
      "60000\n",
      "70000\n",
      "80000\n",
      "90000\n",
      "100000\n",
      "110000\n",
      "Images saved with no findings: 60361\n"
     ]
    }
   ],
   "source": [
    "# Select images with no findings\n",
    "healthy_images = []\n",
    "\n",
    "for i, h in enumerate(images_list):\n",
    "    pth, img = h\n",
    "    if img in no_findings:\n",
    "        healthy_images.append((pth,img))\n",
    "    if(i % 10000 == 0):\n",
    "        print(i)\n",
    "        \n",
    "print(\"Images saved with no findings:\", len(healthy_images))"
   ]
  },
  {
   "cell_type": "code",
   "execution_count": 14,
   "metadata": {},
   "outputs": [],
   "source": [
    "shuffle(healthy_images)"
   ]
  },
  {
   "cell_type": "code",
   "execution_count": 15,
   "metadata": {
    "collapsed": true
   },
   "outputs": [],
   "source": [
    "for i, h in enumerate(healthy_images):\n",
    "    pth, img = h\n",
    "    if count < 59000:\n",
    "        copy2(pth, output_train)\n",
    "    else:\n",
    "        copy2(pth, output_test)\n",
    "        \n",
    "    if(i % 1000 == 0):\n",
    "        print(i)\n",
    "        "
   ]
  }
 ],
 "metadata": {
  "kernelspec": {
   "display_name": "Python 3",
   "language": "python",
   "name": "python3"
  },
  "language_info": {
   "codemirror_mode": {
    "name": "ipython",
    "version": 3
   },
   "file_extension": ".py",
   "mimetype": "text/x-python",
   "name": "python",
   "nbconvert_exporter": "python",
   "pygments_lexer": "ipython3",
   "version": "3.6.2"
  }
 },
 "nbformat": 4,
 "nbformat_minor": 2
}
